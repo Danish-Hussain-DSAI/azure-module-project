{
  "nbformat": 4,
  "nbformat_minor": 0,
  "metadata": {
    "colab": {
      "provenance": [],
      "mount_file_id": "1V77sW2xlFHYdLZjmcuhbdr-ypgxVbYtp",
      "authorship_tag": "ABX9TyM99bdVgkcTgY4s9QBBN2d5",
      "include_colab_link": true
    },
    "kernelspec": {
      "name": "python3",
      "display_name": "Python 3"
    },
    "language_info": {
      "name": "python"
    }
  },
  "cells": [
    {
      "cell_type": "markdown",
      "metadata": {
        "id": "view-in-github",
        "colab_type": "text"
      },
      "source": [
        "<a href=\"https://colab.research.google.com/github/Danish-Hussain-DSAI/azure-module-project/blob/main/azure_project.ipynb\" target=\"_parent\"><img src=\"https://colab.research.google.com/assets/colab-badge.svg\" alt=\"Open In Colab\"/></a>"
      ]
    },
    {
      "cell_type": "code",
      "execution_count": null,
      "metadata": {
        "id": "zwkLzKKWIXKa"
      },
      "outputs": [],
      "source": [
        "from dotenv import load_dotenv\n",
        "from datetime import datetime\n",
        "import os\n",
        "import azure.cognitiveservices.speech as speechsdk\n",
        "from azure.ai.translation import TranslationClient\n",
        "from azure.core.credentials import AzureKeyCredential\n",
        "\n",
        "def main():\n",
        "    try:\n",
        "        global translation_config\n",
        "        global speech_config\n",
        "\n",
        "        # Load environment variables\n",
        "        load_dotenv()\n",
        "\n",
        "        # Get Azure Speech and Translator service credentials from environment variables\n",
        "        speech_key = os.getenv('hide ha')\n",
        "        region = os.getenv('hide kya')\n",
        "        translator_key = os.getenv('hide kya')\n",
        "        translator_endpoint = os.getenv('hide kya ha')\n",
        "\n",
        "        # Configure translation\n",
        "        translation_config = TranslationClient(endpoint=translator_endpoint, credential=AzureKeyCredential(translator_key))\n",
        "\n",
        "        # Configure speech\n",
        "        speech_config = speechsdk.SpeechConfig(subscription=speech_key, region=region)\n",
        "\n",
        "        # Get user input\n",
        "        target_language = ''\n",
        "        while target_language != 'quit':\n",
        "            target_language = input('\\nEnter a target language\\n fr = French\\n es = Spanish\\n hi = Hindi\\n ur = Urdu\\n Enter anything else to stop\\n').lower()\n",
        "            if target_language in translation_config.target_languages:\n",
        "                if target_language == 'ur':\n",
        "                    translate_urdu_to_english()\n",
        "                else:\n",
        "                    translate_to_target_language(target_language)\n",
        "            else:\n",
        "                target_language = 'quit'\n",
        "\n",
        "    except Exception as ex:\n",
        "        print(ex)\n",
        "\n",
        "def translate_to_target_language(target_language):\n",
        "    try:\n",
        "        # Replace with logic to obtain the audio file path\n",
        "        audio_file_path = \"/content/drive/MyDrive/danish-intro.wav\"\n",
        "\n",
        "        audio_config = speechsdk.audio.AudioConfig(filename=audio_file_path)\n",
        "        speech_recognizer = speechsdk.SpeechRecognizer(speech_config=speech_config, audio_config=audio_config)\n",
        "\n",
        "        print(\"Transcribing audio...\")\n",
        "        result = speech_recognizer.recognize_once()\n",
        "\n",
        "        if result.reason == speechsdk.ResultReason.RecognizedSpeech:\n",
        "            print(\"Transcription: {}\".format(result.text))\n",
        "\n",
        "            # Translate speech to the specified target language\n",
        "            result = translation_config.translate(result.text, target_language=target_language)\n",
        "\n",
        "            # Print the translation\n",
        "            print(\"Translation ({}): {}\".format(target_language, result))\n",
        "\n",
        "            # Synthesize translation\n",
        "            # Add logic to synthesize the translated text into audio if needed\n",
        "\n",
        "        else:\n",
        "            print(\"Speech recognition failed: {}\".format(result.reason))\n",
        "\n",
        "    except Exception as ex:\n",
        "        print(ex)\n",
        "\n",
        "def synthesize_speech(text):\n",
        "    # Initialize the translation speech synthesizer\n",
        "    translation_synthesizer = speechsdk.SpeechSynthesizer(speech_config=speech_config)\n",
        "\n",
        "    # Synthesize the translated text to speech\n",
        "    result = translation_synthesizer.speak_text_async(text).get()\n",
        "\n",
        "    # Save the synthesized speech as a .wav file\n",
        "    output_file_path = \"/content/drive/MyDrive/danish-output.wav\"\n",
        "    with open(output_file_path, \"wb\") as audio_file:\n",
        "        audio_file.write(result.audio_data)\n",
        "\n",
        "    print(\"Speech synthesis completed. Saved to:\", output_file_path)\n",
        "\n",
        "if __name__ == \"__main__\":\n",
        "    main()\n"
      ]
    }
  ]
}